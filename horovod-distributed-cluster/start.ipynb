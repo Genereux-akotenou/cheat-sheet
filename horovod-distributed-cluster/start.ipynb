{
 "cells": [
  {
   "cell_type": "markdown",
   "id": "18a62c64-14b3-4106-b530-f07d6c00f8bb",
   "metadata": {},
   "source": [
    "NOTE: Replace `node7`,`node8` by worker IPs.\n",
    "\n",
    "---"
   ]
  },
  {
   "cell_type": "markdown",
   "id": "e99a92b7-ef99-4c0c-a6d8-f46e408c97d2",
   "metadata": {},
   "source": [
    "a. Prove which host each rank is on"
   ]
  },
  {
   "cell_type": "code",
   "execution_count": null,
   "id": "fef23c7f-08f2-4be4-a215-c620ce3b0f5b",
   "metadata": {},
   "outputs": [
    {
     "name": "stdout",
     "output_type": "stream",
     "text": [
      "2025-09-04 16:40:00.460294: I tensorflow/core/util/util.cc:169] oneDNN custom operations are on. You may see slightly different numerical results due to floating-point round-off errors from different computation orders. To turn them off, set the environment variable `TF_ENABLE_ONEDNN_OPTS=0`.\n",
      "[1,0]<stderr>:2025-09-04 16:40:02.421106: I tensorflow/core/util/util.cc:169] oneDNN custom operations are on. You may see slightly different numerical results due to floating-point round-off errors from different computation orders. To turn them off, set the environment variable `TF_ENABLE_ONEDNN_OPTS=0`.\n",
      "[1,1]<stderr>:2025-09-04 16:40:02.412623: I tensorflow/core/util/util.cc:169] oneDNN custom operations are on. You may see slightly different numerical results due to floating-point round-off errors from different computation orders. To turn them off, set the environment variable `TF_ENABLE_ONEDNN_OPTS=0`.\n"
     ]
    }
   ],
   "source": [
    "!horovodrun -np 2 -H node7:1,node8:1 -p 12345 \\\n",
    "  python -c \"import horovod.tensorflow as hvd, socket; hvd.init(); print('rank', hvd.rank(), 'on', socket.gethostname())\""
   ]
  },
  {
   "cell_type": "markdown",
   "id": "bc892b8d-07de-4d09-9504-a5be4a5fe9b9",
   "metadata": {},
   "source": [
    "b. Confirm GPU visibility per rank"
   ]
  },
  {
   "cell_type": "code",
   "execution_count": null,
   "id": "86bd8bd4-48fe-48be-a46e-98c14d6f19a5",
   "metadata": {},
   "outputs": [],
   "source": [
    "!horovodrun -np 2 -H node7:1,node8:1 -p 12345 \\\n",
    "  bash -lc 'echo RANK:$OMPI_COMM_WORLD_RANK on $(hostname); nvidia-smi -L'"
   ]
  },
  {
   "cell_type": "markdown",
   "id": "af2279ce-a96a-4b3f-93fd-ab2361cfd95c",
   "metadata": {},
   "source": [
    "c. Run code"
   ]
  },
  {
   "cell_type": "code",
   "execution_count": null,
   "id": "615f7446-ed22-46f3-a0a3-eaf3761a9b83",
   "metadata": {},
   "outputs": [],
   "source": [
    "!horovodrun -np 2 -H node7:1,node8:1 -p 12345 python examples/keras/keras_mnist_advanced.py"
   ]
  },
  {
   "cell_type": "markdown",
   "id": "8153bc42-de2c-42a9-8539-f1510bb25fc6",
   "metadata": {},
   "source": [
    "---"
   ]
  },
  {
   "cell_type": "markdown",
   "id": "89448f67-dfcf-427c-ba44-a51e18274a94",
   "metadata": {},
   "source": [
    "NOTE: Get a look of some examples in examples folder. Your current code will be mounted in `workspace` directory. You have to work overthere."
   ]
  },
  {
   "cell_type": "code",
   "execution_count": null,
   "id": "8c33dc48-393a-4673-bbb5-f23cc5dccca5",
   "metadata": {},
   "outputs": [],
   "source": []
  }
 ],
 "metadata": {
  "kernelspec": {
   "display_name": "Python 3 (ipykernel)",
   "language": "python",
   "name": "python3"
  },
  "language_info": {
   "codemirror_mode": {
    "name": "ipython",
    "version": 3
   },
   "file_extension": ".py",
   "mimetype": "text/x-python",
   "name": "python",
   "nbconvert_exporter": "python",
   "pygments_lexer": "ipython3",
   "version": "3.8.10"
  }
 },
 "nbformat": 4,
 "nbformat_minor": 5
}
